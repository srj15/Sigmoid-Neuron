{
  "cells": [
    {
      "metadata": {
        "colab": {},
        "colab_type": "code",
        "id": "a192xmwKijHs",
        "trusted": true,
        "_uuid": "3cb3a38554d14e4eab6d5eb7c74e8cd0e3f4063f"
      },
      "cell_type": "code",
      "source": "import os\nimport sys\nimport pickle\nimport numpy as np\nimport pandas as pd\nfrom PIL import Image, ImageFilter\nfrom tqdm import tqdm_notebook\nfrom sklearn.preprocessing import StandardScaler\nfrom sklearn.metrics import accuracy_score, mean_squared_error, log_loss, confusion_matrix\nimport matplotlib.pyplot as plt\n\nnp.random.seed(100)\nLEVEL = 'level_1'",
      "execution_count": null,
      "outputs": []
    },
    {
      "metadata": {
        "colab": {},
        "colab_type": "code",
        "id": "fIuRdSezijHx",
        "trusted": true,
        "_uuid": "bb81c3191aed9d891e12c65b6f5319cdaacafbf6"
      },
      "cell_type": "code",
      "source": "class SigmoidNeuron:\n  \n  def __init__(self):\n    self.w = None\n    self.b = None\n    \n  def perceptron(self, x):\n    return np.dot(x, self.w.T) + self.b\n  \n  def sigmoid(self, x):\n    return 1.0/(1.0 + np.exp(-x))\n  \n  def grad_w_mse(self, x, y):\n    y_pred = self.sigmoid(self.perceptron(x))\n    return (y_pred - y) * y_pred * (1 - y_pred) * x\n  \n  def grad_b_mse(self, x, y):\n    y_pred = self.sigmoid(self.perceptron(x))\n    return (y_pred - y) * y_pred * (1 - y_pred)\n  \n  def grad_w_ce(self, x, y):\n    y_pred = self.sigmoid(self.perceptron(x))\n    if y == 0:\n      return y_pred * x\n    elif y == 1:\n      return -1 * (1 - y_pred) * x\n    else:\n      raise ValueError(\"y should be 0 or 1\")\n    \n  def grad_b_ce(self, x, y):\n    y_pred = self.sigmoid(self.perceptron(x))\n    if y == 0:\n      return y_pred \n    elif y == 1:\n      return -1 * (1 - y_pred)\n    else:\n      raise ValueError(\"y should be 0 or 1\")\n  \n  def fit(self, X, Y, epochs=1, learning_rate=1, initialise=True, loss_fn=\"mse\", display_loss=False):\n    \n    # initialise w, b\n    if initialise:\n      self.w = np.random.randn(1, X.shape[1])\n      self.b = 0\n      \n    if display_loss:\n      loss = {}\n    \n    for i in tqdm_notebook(range(epochs), total=epochs, unit=\"epoch\"):\n      dw = 0\n      db = 0\n      for x, y in zip(X, Y):\n        if loss_fn == \"mse\":\n          dw += self.grad_w_mse(x, y)\n          db += self.grad_b_mse(x, y) \n        elif loss_fn == \"ce\":\n          dw += self.grad_w_ce(x, y)\n          db += self.grad_b_ce(x, y)\n      self.w -= learning_rate * dw\n      self.b -= learning_rate * db\n      \n      if display_loss:\n        Y_pred = self.sigmoid(self.perceptron(X))\n        if loss_fn == \"mse\":\n          loss[i] = mean_squared_error(Y, Y_pred)\n        elif loss_fn == \"ce\":\n          loss[i] = log_loss(Y, Y_pred)\n    \n    if display_loss:\n      plt.plot(loss.values())\n      plt.xlabel('Epochs')\n      if loss_fn == \"mse\":\n        plt.ylabel('Mean Squared Error')\n      elif loss_fn == \"ce\":\n        plt.ylabel('Log Loss')\n      plt.show()\n      \n  def predict(self, X):\n    Y_pred = []\n    for x in X:\n      y_pred = self.sigmoid(self.perceptron(x))\n      Y_pred.append(y_pred)\n    return np.array(Y_pred)",
      "execution_count": null,
      "outputs": []
    },
    {
      "metadata": {
        "colab": {},
        "colab_type": "code",
        "id": "VDe2wjl_ijH0",
        "trusted": true,
        "_uuid": "0034cedb52bad7184f6dfed4fb430d8a621975a9"
      },
      "cell_type": "code",
      "source": "def read_all(folder_path, key_prefix=\"\"):\n    '''\n    It returns a dictionary with 'file names' as keys and 'flattened image arrays' as values.\n    '''\n    print(\"Reading:\")\n    images = {}\n    files = os.listdir(folder_path)\n    for i, file_name in tqdm_notebook(enumerate(files), total=len(files)):\n        file_path = os.path.join(folder_path, file_name)\n        image_index = key_prefix + file_name[:-4]\n        image = Image.open(file_path)\n        image = image.convert(\"L\")\n        images[image_index] = np.array(image.copy()).flatten()\n        image.close()\n    return images",
      "execution_count": null,
      "outputs": []
    },
    {
      "metadata": {
        "colab": {},
        "colab_type": "code",
        "id": "mjuaN532ijH4",
        "outputId": "4124ae5e-4a9c-44dc-8c84-7919e6927fe5",
        "trusted": true,
        "_uuid": "d5f8226aca2632cea94d5015effa7e84cd23b5a2"
      },
      "cell_type": "code",
      "source": "languages = ['ta', 'hi', 'en']\n\nimages_train = read_all(\"../input/level_1_train/\"+LEVEL+\"/\"+\"background\", key_prefix='bgr_') \nfor language in languages:\n  images_train.update(read_all(\"../input/level_1_train/\"+LEVEL+\"/\"+language, key_prefix=language+\"_\" ))\nprint(len(images_train))\n\nimages_test = read_all(\"../input/level_1_test/kaggle_\"+LEVEL, key_prefix='') \nprint(len(images_test))",
      "execution_count": null,
      "outputs": []
    },
    {
      "metadata": {
        "colab": {},
        "colab_type": "code",
        "id": "xqcTJRmSijH-",
        "outputId": "3a26f608-868b-498d-b18d-bfae2b452d4e",
        "trusted": true,
        "_uuid": "1f0c57ccef3c23d3efbf8149bfa310a9514235f2"
      },
      "cell_type": "code",
      "source": "list(images_test.keys())[:5]",
      "execution_count": null,
      "outputs": []
    },
    {
      "metadata": {
        "colab": {},
        "colab_type": "code",
        "id": "yQUKxV_FijIC",
        "outputId": "e6f2538b-3285-49ea-d6fd-7fbadc2bb975",
        "trusted": true,
        "_uuid": "bef548a5bcaea06395b0c9c7a0ab667de7b68ed3"
      },
      "cell_type": "code",
      "source": "X_train = []\nY_train = []\nfor key, value in images_train.items():\n    X_train.append(value)\n    if key[:4] == \"bgr_\":\n        Y_train.append(0)\n    else:\n        Y_train.append(1)\n\nID_test = []\nX_test = []\nfor key, value in images_test.items():\n  ID_test.append(int(key))\n  X_test.append(value)\n  \n        \nX_train = np.array(X_train)\nY_train = np.array(Y_train)\nX_test = np.array(X_test)\n\nprint(X_train.shape, Y_train.shape)\nprint(X_test.shape)",
      "execution_count": null,
      "outputs": []
    },
    {
      "metadata": {
        "colab": {},
        "colab_type": "code",
        "id": "wy3IKx26ijIG",
        "outputId": "f571f85d-1fe6-4a33-bcf1-ca1574aa3709",
        "trusted": true,
        "_uuid": "843a974abc6967376d9e32c79de6d792496f30de"
      },
      "cell_type": "code",
      "source": "scaler = StandardScaler()\nX_scaled_train = scaler.fit_transform(X_train)\nX_scaled_test = scaler.transform(X_test)",
      "execution_count": null,
      "outputs": []
    },
    {
      "metadata": {
        "colab": {},
        "colab_type": "code",
        "id": "eboQW2n1ijIK",
        "outputId": "fa8fbf5d-5d5c-4463-aa3c-909d6698b9b0",
        "trusted": true,
        "_uuid": "d73b72c1b03b9e66356290fb56164790a1c5f015"
      },
      "cell_type": "code",
      "source": "#sn_mse = SigmoidNeuron()\n#sn_mse.fit(X_scaled_train, Y_train, epochs=10000, learning_rate=0.001, loss_fn=\"mse\", display_loss=True)",
      "execution_count": null,
      "outputs": []
    },
    {
      "metadata": {
        "colab": {},
        "colab_type": "code",
        "id": "547SFsgsijIO",
        "outputId": "e6595d5e-a9e0-4b5f-f7b5-a56297bc69c0",
        "trusted": true,
        "_uuid": "54c86ff495b0c203ab0651402a0b183fe2c5ffdd",
        "scrolled": false
      },
      "cell_type": "code",
      "source": "sn_ce = SigmoidNeuron()\nsn_ce.fit(X_scaled_train, Y_train, epochs=10000, learning_rate=0.01, loss_fn=\"ce\", display_loss=True)",
      "execution_count": null,
      "outputs": []
    },
    {
      "metadata": {
        "colab": {},
        "colab_type": "code",
        "id": "_a3_-9zYijIS",
        "trusted": true,
        "_uuid": "70cfe86f144d52c14bbf067f4f16f619799532bd"
      },
      "cell_type": "code",
      "source": "def print_accuracy(sn):\n  Y_pred_train = sn.predict(X_scaled_train)\n  Y_pred_binarised_train = (Y_pred_train >= 0.5).astype(\"int\").ravel()\n  accuracy_train = accuracy_score(Y_pred_binarised_train, Y_train)\n  print(\"Train Accuracy : \", accuracy_train)\n  print(\"-\"*50)",
      "execution_count": null,
      "outputs": []
    },
    {
      "metadata": {
        "colab": {},
        "colab_type": "code",
        "id": "lqe2g9PLijIW",
        "outputId": "0ce4b45c-78f5-4323-829b-db3e12c3f268",
        "trusted": true,
        "_uuid": "b6825364d1387bb5a8b85a347edab3daa3ff8afb"
      },
      "cell_type": "code",
      "source": "#print_accuracy(sn_mse)\nprint_accuracy(sn_ce)",
      "execution_count": null,
      "outputs": []
    },
    {
      "metadata": {
        "colab_type": "text",
        "id": "8IMv7SCUijIa",
        "_uuid": "c1e7326a2a8962833d6174c171d952c0a5de80f6"
      },
      "cell_type": "markdown",
      "source": "## Sample Submission"
    },
    {
      "metadata": {
        "colab": {},
        "colab_type": "code",
        "id": "4_pBsgYlijIb",
        "trusted": true,
        "_uuid": "733176b8e396d3a5a73714fd3b33a23685e0edc9"
      },
      "cell_type": "code",
      "source": "Y_pred_test = sn_ce.predict(X_scaled_test)\nY_pred_binarised_test = (Y_pred_test >= 0.5).astype(\"int\").ravel()\n\nsubmission = {}\nsubmission['ImageId'] = ID_test\nsubmission['Class'] = Y_pred_binarised_test\n\nsubmission = pd.DataFrame(submission)\nsubmission = submission[['ImageId', 'Class']]\nsubmission = submission.sort_values(['ImageId'])\nsubmission.to_csv(\"submisision.csv\", index=False)",
      "execution_count": null,
      "outputs": []
    },
    {
      "metadata": {
        "colab": {},
        "colab_type": "code",
        "id": "LCkK3-CDijIe",
        "trusted": true,
        "_uuid": "5ea4c0601be18b5a77e809aa657567908863ab0d"
      },
      "cell_type": "code",
      "source": "",
      "execution_count": null,
      "outputs": []
    }
  ],
  "metadata": {
    "colab": {
      "collapsed_sections": [],
      "name": "Text - Non Text Classification.ipynb",
      "provenance": [],
      "version": "0.3.2"
    },
    "kernelspec": {
      "display_name": "Python 3",
      "language": "python",
      "name": "python3"
    },
    "language_info": {
      "name": "python",
      "version": "3.6.6",
      "mimetype": "text/x-python",
      "codemirror_mode": {
        "name": "ipython",
        "version": 3
      },
      "pygments_lexer": "ipython3",
      "nbconvert_exporter": "python",
      "file_extension": ".py"
    }
  },
  "nbformat": 4,
  "nbformat_minor": 1
}